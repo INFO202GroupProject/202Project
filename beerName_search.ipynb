{
 "cells": [
  {
   "cell_type": "code",
   "execution_count": 1,
   "metadata": {
    "collapsed": true
   },
   "outputs": [],
   "source": [
    "import pandas as pd\n",
    "import numpy as np\n",
    "from fuzzywuzzy import fuzz\n",
    "from fuzzywuzzy import process"
   ]
  },
  {
   "cell_type": "code",
   "execution_count": 2,
   "metadata": {
    "collapsed": true
   },
   "outputs": [],
   "source": [
    "df=pd.read_csv('beer_database_final.csv', encoding='ISO-8859-1')"
   ]
  },
  {
   "cell_type": "code",
   "execution_count": 3,
   "metadata": {
    "collapsed": false
   },
   "outputs": [
    {
     "data": {
      "text/html": [
       "<div>\n",
       "<table border=\"1\" class=\"dataframe\">\n",
       "  <thead>\n",
       "    <tr style=\"text-align: right;\">\n",
       "      <th></th>\n",
       "      <th>Unnamed: 0</th>\n",
       "      <th>BeerId</th>\n",
       "      <th>Beer_Name</th>\n",
       "      <th>Beer_Description</th>\n",
       "      <th>ABV</th>\n",
       "      <th>IBU</th>\n",
       "      <th>SRM</th>\n",
       "      <th>Is_Organic</th>\n",
       "      <th>Availability</th>\n",
       "      <th>styleName</th>\n",
       "      <th>...</th>\n",
       "      <th>latitude</th>\n",
       "      <th>longitude</th>\n",
       "      <th>Occassion</th>\n",
       "      <th>hex</th>\n",
       "      <th>abvClass</th>\n",
       "      <th>beerColor</th>\n",
       "      <th>fgMin/Max</th>\n",
       "      <th>ibuMin/Max</th>\n",
       "      <th>abvMin/Max</th>\n",
       "      <th>srmMin/Max</th>\n",
       "    </tr>\n",
       "  </thead>\n",
       "  <tbody>\n",
       "    <tr>\n",
       "      <th>0</th>\n",
       "      <td>0</td>\n",
       "      <td>YJYjNR</td>\n",
       "      <td>Baker Street Ale</td>\n",
       "      <td>A malty, easy drinking English Pale Ale with m...</td>\n",
       "      <td>4.6</td>\n",
       "      <td>30.0</td>\n",
       "      <td>7.0</td>\n",
       "      <td>N</td>\n",
       "      <td>Year Round</td>\n",
       "      <td>Classic English-Style Pale Ale</td>\n",
       "      <td>...</td>\n",
       "      <td>38.971926</td>\n",
       "      <td>-95.282584</td>\n",
       "      <td>NaN</td>\n",
       "      <td>F39C00</td>\n",
       "      <td>avg-alcohol content</td>\n",
       "      <td>Light Amber</td>\n",
       "      <td>1.008 - 1.016</td>\n",
       "      <td>20.0 - 40.0</td>\n",
       "      <td>4.5 - 5.5</td>\n",
       "      <td>5.0 - 5.0</td>\n",
       "    </tr>\n",
       "    <tr>\n",
       "      <th>1</th>\n",
       "      <td>1</td>\n",
       "      <td>4BIPp5</td>\n",
       "      <td>Brooklyn Summer Ale</td>\n",
       "      <td>Brooklyn Summer Ale is a modern rendition of t...</td>\n",
       "      <td>5.0</td>\n",
       "      <td>18.0</td>\n",
       "      <td>NaN</td>\n",
       "      <td>N</td>\n",
       "      <td>Seasonal</td>\n",
       "      <td>Classic English-Style Pale Ale</td>\n",
       "      <td>...</td>\n",
       "      <td>40.721535</td>\n",
       "      <td>-73.957450</td>\n",
       "      <td>NaN</td>\n",
       "      <td>NaN</td>\n",
       "      <td>avg-alcohol content</td>\n",
       "      <td>NaN</td>\n",
       "      <td>1.008 - 1.016</td>\n",
       "      <td>20.0 - 40.0</td>\n",
       "      <td>4.5 - 5.5</td>\n",
       "      <td>5.0 - 5.0</td>\n",
       "    </tr>\n",
       "    <tr>\n",
       "      <th>2</th>\n",
       "      <td>2</td>\n",
       "      <td>s7C229</td>\n",
       "      <td>Classic Session Ale</td>\n",
       "      <td>The definition of a session beer, this 3.9% pe...</td>\n",
       "      <td>3.9</td>\n",
       "      <td>27.0</td>\n",
       "      <td>9.0</td>\n",
       "      <td>N</td>\n",
       "      <td>Year Round</td>\n",
       "      <td>Classic English-Style Pale Ale</td>\n",
       "      <td>...</td>\n",
       "      <td>35.777278</td>\n",
       "      <td>-78.801539</td>\n",
       "      <td>NaN</td>\n",
       "      <td>E58500</td>\n",
       "      <td>low/med-alcohol content</td>\n",
       "      <td>Pale Amber</td>\n",
       "      <td>1.008 - 1.016</td>\n",
       "      <td>20.0 - 40.0</td>\n",
       "      <td>4.5 - 5.5</td>\n",
       "      <td>5.0 - 5.0</td>\n",
       "    </tr>\n",
       "    <tr>\n",
       "      <th>3</th>\n",
       "      <td>3</td>\n",
       "      <td>FxTaxA</td>\n",
       "      <td>Dominion Ale</td>\n",
       "      <td>This English style ale is malty with an assert...</td>\n",
       "      <td>5.4</td>\n",
       "      <td>NaN</td>\n",
       "      <td>NaN</td>\n",
       "      <td>N</td>\n",
       "      <td>Year Round</td>\n",
       "      <td>Classic English-Style Pale Ale</td>\n",
       "      <td>...</td>\n",
       "      <td>39.154003</td>\n",
       "      <td>-75.488363</td>\n",
       "      <td>NaN</td>\n",
       "      <td>NaN</td>\n",
       "      <td>avg-alcohol content</td>\n",
       "      <td>NaN</td>\n",
       "      <td>1.008 - 1.016</td>\n",
       "      <td>20.0 - 40.0</td>\n",
       "      <td>4.5 - 5.5</td>\n",
       "      <td>5.0 - 5.0</td>\n",
       "    </tr>\n",
       "    <tr>\n",
       "      <th>4</th>\n",
       "      <td>4</td>\n",
       "      <td>lXV2aO</td>\n",
       "      <td>English Six Grain Ale</td>\n",
       "      <td>Our owner Tom's homebrew recipe brought up to ...</td>\n",
       "      <td>5.0</td>\n",
       "      <td>28.8</td>\n",
       "      <td>NaN</td>\n",
       "      <td>N</td>\n",
       "      <td>Year Round</td>\n",
       "      <td>Classic English-Style Pale Ale</td>\n",
       "      <td>...</td>\n",
       "      <td>44.253282</td>\n",
       "      <td>-88.403847</td>\n",
       "      <td>NaN</td>\n",
       "      <td>NaN</td>\n",
       "      <td>avg-alcohol content</td>\n",
       "      <td>NaN</td>\n",
       "      <td>1.008 - 1.016</td>\n",
       "      <td>20.0 - 40.0</td>\n",
       "      <td>4.5 - 5.5</td>\n",
       "      <td>5.0 - 5.0</td>\n",
       "    </tr>\n",
       "  </tbody>\n",
       "</table>\n",
       "<p>5 rows × 33 columns</p>\n",
       "</div>"
      ],
      "text/plain": [
       "   Unnamed: 0  BeerId              Beer_Name  \\\n",
       "0           0  YJYjNR       Baker Street Ale   \n",
       "1           1  4BIPp5    Brooklyn Summer Ale   \n",
       "2           2  s7C229    Classic Session Ale   \n",
       "3           3  FxTaxA           Dominion Ale   \n",
       "4           4  lXV2aO  English Six Grain Ale   \n",
       "\n",
       "                                    Beer_Description  ABV   IBU  SRM  \\\n",
       "0  A malty, easy drinking English Pale Ale with m...  4.6  30.0  7.0   \n",
       "1  Brooklyn Summer Ale is a modern rendition of t...  5.0  18.0  NaN   \n",
       "2  The definition of a session beer, this 3.9% pe...  3.9  27.0  9.0   \n",
       "3  This English style ale is malty with an assert...  5.4   NaN  NaN   \n",
       "4  Our owner Tom's homebrew recipe brought up to ...  5.0  28.8  NaN   \n",
       "\n",
       "  Is_Organic Availability                       styleName    ...      \\\n",
       "0          N   Year Round  Classic English-Style Pale Ale    ...       \n",
       "1          N     Seasonal  Classic English-Style Pale Ale    ...       \n",
       "2          N   Year Round  Classic English-Style Pale Ale    ...       \n",
       "3          N   Year Round  Classic English-Style Pale Ale    ...       \n",
       "4          N   Year Round  Classic English-Style Pale Ale    ...       \n",
       "\n",
       "    latitude  longitude Occassion     hex                 abvClass  \\\n",
       "0  38.971926 -95.282584       NaN  F39C00      avg-alcohol content   \n",
       "1  40.721535 -73.957450       NaN     NaN      avg-alcohol content   \n",
       "2  35.777278 -78.801539       NaN  E58500  low/med-alcohol content   \n",
       "3  39.154003 -75.488363       NaN     NaN      avg-alcohol content   \n",
       "4  44.253282 -88.403847       NaN     NaN      avg-alcohol content   \n",
       "\n",
       "     beerColor      fgMin/Max   ibuMin/Max abvMin/Max srmMin/Max  \n",
       "0  Light Amber  1.008 - 1.016  20.0 - 40.0  4.5 - 5.5  5.0 - 5.0  \n",
       "1          NaN  1.008 - 1.016  20.0 - 40.0  4.5 - 5.5  5.0 - 5.0  \n",
       "2   Pale Amber  1.008 - 1.016  20.0 - 40.0  4.5 - 5.5  5.0 - 5.0  \n",
       "3          NaN  1.008 - 1.016  20.0 - 40.0  4.5 - 5.5  5.0 - 5.0  \n",
       "4          NaN  1.008 - 1.016  20.0 - 40.0  4.5 - 5.5  5.0 - 5.0  \n",
       "\n",
       "[5 rows x 33 columns]"
      ]
     },
     "execution_count": 3,
     "metadata": {},
     "output_type": "execute_result"
    }
   ],
   "source": [
    "df.head()"
   ]
  },
  {
   "cell_type": "code",
   "execution_count": 4,
   "metadata": {
    "collapsed": true
   },
   "outputs": [],
   "source": [
    "# good searches:\n",
    "# guinness or guiness\n",
    "# yuengling\n",
    "# sweetwater\n",
    "# pliny\n",
    "# newcastle\n",
    "# samuel adams\n",
    "\n",
    "\n",
    "\n"
   ]
  },
  {
   "cell_type": "code",
   "execution_count": 5,
   "metadata": {
    "collapsed": false
   },
   "outputs": [
    {
     "name": "stdout",
     "output_type": "stream",
     "text": [
      "What beer would you like to search for?: newcastle\n"
     ]
    }
   ],
   "source": [
    "text=str(input(\"What beer would you like to search for?: \")).lower() #Prompt user for query in seach engine"
   ]
  },
  {
   "cell_type": "code",
   "execution_count": 79,
   "metadata": {
    "collapsed": false
   },
   "outputs": [],
   "source": [
    "def beerSearch(string):\n",
    "    dict_list = {num: fuzz.partial_ratio(x.lower(), text) for num, x in enumerate(df['Beer_Name'])}\n",
    "\n",
    "    t = sorted(dict_list.items(), key=lambda x:-x[1])[:100]\n",
    "\n",
    "    new_dict = {}\n",
    "    y=False\n",
    "    for index, x in enumerate(t,1):\n",
    "        if index==0 and x[1] != 100:\n",
    "            y = True\n",
    "        if x[1] == 100:\n",
    "            new_dict[index] = [df.ix[x[0], 'Beer_Name'], x[0]]\n",
    "        if y and x[1] > 80:\n",
    "            new_dict[index] = [df.ix[x[0], 'Beer_Name'], x[0]]\n",
    "\n",
    "    final_list = []\n",
    "    for key, value in new_dict.items():\n",
    "        final_list.append(str(key)+\" : \"+str(value[0]))\n",
    "    return print('\\n'.join(final_list))"
   ]
  },
  {
   "cell_type": "code",
   "execution_count": 80,
   "metadata": {
    "collapsed": false
   },
   "outputs": [
    {
     "name": "stdout",
     "output_type": "stream",
     "text": [
      "1 : Newcastle Brown Ale\n",
      "2 : Newcastle Cabbie Black Ale\n"
     ]
    }
   ],
   "source": [
    "beerSearch(text)"
   ]
  },
  {
   "cell_type": "code",
   "execution_count": 81,
   "metadata": {
    "collapsed": false
   },
   "outputs": [
    {
     "name": "stdout",
     "output_type": "stream",
     "text": [
      "Select the number for more information on the respective beer: 1\n"
     ]
    }
   ],
   "source": [
    "selection = int(input(\"Select the number for more information on the respective beer: \"))"
   ]
  },
  {
   "cell_type": "code",
   "execution_count": 85,
   "metadata": {
    "collapsed": false
   },
   "outputs": [
    {
     "data": {
      "text/plain": [
       "Unnamed: 0                                                           349\n",
       "BeerId                                                            7ET5OY\n",
       "Beer_Name                                            Newcastle Brown Ale\n",
       "Beer_Description       Newcastle Brown Ale is traditionally sold in E...\n",
       "ABV                                                                  4.7\n",
       "IBU                                                                  NaN\n",
       "SRM                                                                   15\n",
       "Is_Organic                                                             N\n",
       "Availability                                                  Year Round\n",
       "styleName                                        English-Style Brown Ale\n",
       "styleShortName                                             English Brown\n",
       "styleDescription       English brown ales range from copper to brown ...\n",
       "foodPairings           Beans & Legumes Gouda Braised Meats Chocolate ...\n",
       "label                  https://s3.amazonaws.com/brewerydbapi/beer/7ET...\n",
       "Ingredients                Beans & Legumes Gouda Braised Meats Chocolate\n",
       "Dishes                 Grilled Halibut with Pole Beans Milk chocolate...\n",
       "IngredientsDishes      Beans & Legumes Gouda Braised Meats Chocolate ...\n",
       "breweryId                                                            NaN\n",
       "breweryName                                                          NaN\n",
       "country                                                              NaN\n",
       "locality                                                             NaN\n",
       "region                                                               NaN\n",
       "locationTypeDisplay                                                  NaN\n",
       "latitude                                                             NaN\n",
       "longitude                                                            NaN\n",
       "Occassion                                                           Fall\n",
       "hex                                                               BB5100\n",
       "abvClass                                             avg-alcohol content\n",
       "beerColor                                                     Deep Amber\n",
       "fgMin/Max                                                  1.008 - 1.014\n",
       "ibuMin/Max                                                   15.0 - 25.0\n",
       "abvMin/Max                                                     4.0 - 5.5\n",
       "srmMin/Max                                                   13.0 - 25.0\n",
       "Name: 349, dtype: object"
      ]
     },
     "execution_count": 85,
     "metadata": {},
     "output_type": "execute_result"
    }
   ],
   "source": [
    "df.ix[new_dict[selection-1][1]]"
   ]
  },
  {
   "cell_type": "code",
   "execution_count": 86,
   "metadata": {
    "collapsed": false
   },
   "outputs": [],
   "source": [
    "# Locality, or city, where the brewery is located\n",
    "def genericBeerInfo(num):\n",
    "    df1 = df.ix[new_dict[num-1][1],['Beer_Name', 'Beer_Description', 'styleName','abvClass','beerColor',\\\n",
    "                                           'breweryName','locality']]\n",
    "    \n",
    "    column_list = ['Name', 'Description', 'Style','ABV classification','Color','Brewery','Location of brewery']\n",
    "    \n",
    "    final_list = []\n",
    "    for num, value in enumerate(df1):\n",
    "        if pd.isnull(value):\n",
    "            continue\n",
    "        else: \n",
    "            final_list.append(str(column_list[num])+': '+str(value)+'\\n')\n",
    "    return print('\\n'.join(final_list))"
   ]
  },
  {
   "cell_type": "code",
   "execution_count": 87,
   "metadata": {
    "collapsed": false
   },
   "outputs": [
    {
     "name": "stdout",
     "output_type": "stream",
     "text": [
      "Name: Newcastle Brown Ale\n",
      "\n",
      "Description: Newcastle Brown Ale is traditionally sold in England by the pint (20 fl oz, 568 ml) and more recently in 550 ml (19.4 fl oz, 0.97 pint) bottles. Typically the ale is consumed from a 12 fl oz Wellington glass. This allows the drinker to regularly top-up the beer and thereby maintain a frothy \"head.\" In the United States, it is also sold in standard 12 fl oz (355 ml) bottles. In April 2010, Heineken USA introduced the Wellington glass, branded as the \"Geordie Schooner,\" for Newcastle Brown Ale consumers in America. The pint glass features a nucleated base.\n",
      "\n",
      "Style: English-Style Brown Ale\n",
      "\n",
      "ABV classification: avg-alcohol content\n",
      "\n",
      "Color: Deep Amber\n",
      "\n"
     ]
    }
   ],
   "source": [
    "genericBeerInfo(selection)"
   ]
  },
  {
   "cell_type": "code",
   "execution_count": null,
   "metadata": {
    "collapsed": false
   },
   "outputs": [],
   "source": [
    "nextSelection = int(input(\"1: Occasion information\\n2: Food pairing information \\n3: Go back to beer selection\\n\\\n",
    "4: End\\n\\nEnter the respective numeric value for your preferred option: \\n\"))"
   ]
  },
  {
   "cell_type": "code",
   "execution_count": 147,
   "metadata": {
    "collapsed": true
   },
   "outputs": [],
   "source": [
    "def getOccasion(num):\n",
    "    df1 = df.ix[new_dict[num-1][1],['Occassion']]\n",
    "    \n",
    "    column_list = ['Occassion']\n",
    "    \n",
    "    final_list = []\n",
    "    for num, value in enumerate(df1):\n",
    "        if pd.isnull(value):\n",
    "            final_list.append(str(column_list[num])+': sorry the occassion information is not available\\n')\n",
    "        else: \n",
    "            final_list.append(str(column_list[num])+': '+str(value)+'\\n')\n",
    "    return print('\\n'.join(final_list))"
   ]
  },
  {
   "cell_type": "code",
   "execution_count": 148,
   "metadata": {
    "collapsed": true
   },
   "outputs": [],
   "source": [
    "def getFoodPairing(num):\n",
    "    df1 = df.ix[new_dict[num-1][1],['foodPairings','Ingredients','Dishes','IngredientsDishes']]\n",
    "    \n",
    "    column_list = ['foodPairings','Ingredients','Dishes','IngredientsDishes']\n",
    "    \n",
    "    final_list = []\n",
    "    for num, value in enumerate(df1):\n",
    "        if pd.isnull(value):\n",
    "            continue\n",
    "            #final_list.append(str(column_list[num])+': sorry the occassion information is not available\\n')\n",
    "        else: \n",
    "            final_list.append(str(column_list[num])+': '+str(value)+'\\n')\n",
    "    return print('\\n'.join(final_list))"
   ]
  },
  {
   "cell_type": "code",
   "execution_count": 149,
   "metadata": {
    "collapsed": false
   },
   "outputs": [],
   "source": [
    "def nextStep(num):\n",
    "    df1 = df.ix[new_dict[selection-1][1],['Beer_Name']]\n",
    "    if num == 1:\n",
    "        print('Name: '+str(df1[0])+'\\n')\n",
    "        return getOccasion(selection)\n",
    "    if num == 2:\n",
    "        print('Name: '+str(df1[0])+'\\n')\n",
    "        return getFoodPairing(selection)\n",
    "    if num == 3:\n",
    "        return beerSearch(text)"
   ]
  },
  {
   "cell_type": "code",
   "execution_count": 150,
   "metadata": {
    "collapsed": false
   },
   "outputs": [
    {
     "name": "stdout",
     "output_type": "stream",
     "text": [
      "Name: Newcastle Brown Ale\n",
      "\n",
      "Occassion: Fall\n",
      "\n",
      "None\n",
      "foodPairings: Beans & Legumes Gouda Braised Meats Chocolate Grilled Halibut with Pole Beans Milk chocolate and Bread Pudding\n",
      "\n",
      "Ingredients: Beans & Legumes Gouda Braised Meats Chocolate\n",
      "\n",
      "Dishes: Grilled Halibut with Pole Beans Milk chocolate and Bread Pudding\n",
      "\n",
      "IngredientsDishes: Beans & Legumes Gouda Braised Meats Chocolate Grilled Halibut with Pole Beans Milk chocolate and Bread Pudding\n",
      "\n"
     ]
    }
   ],
   "source": [
    "nextStep(nextSelection)"
   ]
  },
  {
   "cell_type": "code",
   "execution_count": null,
   "metadata": {
    "collapsed": true
   },
   "outputs": [],
   "source": []
  },
  {
   "cell_type": "code",
   "execution_count": null,
   "metadata": {
    "collapsed": true
   },
   "outputs": [],
   "source": []
  }
 ],
 "metadata": {
  "kernelspec": {
   "display_name": "Python 3",
   "language": "python",
   "name": "python3"
  },
  "language_info": {
   "codemirror_mode": {
    "name": "ipython",
    "version": 3
   },
   "file_extension": ".py",
   "mimetype": "text/x-python",
   "name": "python",
   "nbconvert_exporter": "python",
   "pygments_lexer": "ipython3",
   "version": "3.6.0"
  }
 },
 "nbformat": 4,
 "nbformat_minor": 2
}
